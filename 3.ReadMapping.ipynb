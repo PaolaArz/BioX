{
 "cells": [
  {
   "cell_type": "markdown",
   "metadata": {},
   "source": [
    "## 3. Read Mapping\n",
    "\n",
    "*Tools*\n",
    "\n",
    "**Bowtie2**\n",
    "* Conda: https://bioconda.github.io/recipes/bowtie2/README.html#package-bowtie2\n",
    "* Manual: http://bowtie-bio.sourceforge.net/bowtie2/index.shtml\n",
    "\n",
    "**bwa**\n",
    "* Conda: https://bioconda.github.io/recipes/bwa/README.html#package-bwa\n",
    "* Manual: http://bio-bwa.sourceforge.net/bwa.shtml\n",
    "\n",
    "**bwa-mem2** \n",
    "* Conda: https://bioconda.github.io/recipes/bwa-mem2/README.html#package-bwa-mem2\n",
    "* Manual: https://www.biostars.org/p/301324/\n",
    "\n",
    "**samtools**\n",
    "* Conda: https://bioconda.github.io/recipes/samtools/README.html#package-samtools\n",
    "* Manual: http://www.htslib.org/doc/\n",
    "\n",
    "* To make it work: `conda update --all`\n",
    "\n",
    "** **\n",
    "\n",
    "*SAM format* \n",
    "\n",
    "https://samtools.github.io/hts-specs/SAMv1.pdf\n",
    "\n",
    "Meaning of columns https://www.samformat.info/sam-format-flag\n",
    "\n",
    "`QNAME    FLAG    RNAME    POS    MAPQ    CIGAR    RNEXT    PNEXT    TLEN    SEQ    QUAL    TAGS`\n",
    "  1. Read Name\n",
    "  2. SAM flag https://broadinstitute.github.io/picard/explain-flags.html\n",
    "  3. contig name, reference sequence name, RNAME, often contains the Chromosome name or * for unmapped\n",
    "  4. mapped position of base 1 of a read on the reference sequence\n",
    "  5. MAPQ mapping quality: phred-scaled posterior probability that the mapping position is wrong  \n",
    "      *It equals −10 log10 Pr{mapping position is wrong}, rounded to the nearest integer. A value 255 indicates that the mapping quality is not available*\n",
    "  6. CIGAR string describing insertions and deletions\n",
    "  7. The reference sequence name of the next alignment in this group, MRNM or RNEXT. In paired alignments, it is the mate's reference sequence name. (A group is alignments with the same query name.)\n",
    "  8. Position of mate\n",
    "  9. Template length\n",
    "  10. Read Sequence\n",
    "  11. Read Quality\n",
    "  12. Additional information in `TAG:TYPE:VALUE` format\n",
    "  \n",
    "https://genome.sph.umich.edu/wiki/SAM\n",
    "\n",
    "** ** \n",
    "\n",
    "*Steps to be performed*\n",
    "\n",
    "1. **Index the reference sequence**. Each reference/genome only needs to be indexed once for each mapper. Each mapper has it own command to index the reference.\n",
    "2. **Map the reads**. Usually the mappers return a file in sam format.\n",
    "3. If the output of the mapper is a sam, **convert it to bam**.\n",
    "4. **Sort the bam**\n",
    "5. **Index the bam**\n",
    "\n",
    "** ** \n",
    "*Bowtie2*"
   ]
  },
  {
   "cell_type": "code",
   "execution_count": 2,
   "metadata": {},
   "outputs": [
    {
     "name": "stdout",
     "output_type": "stream",
     "text": [
      "\u001b[34mArchive\u001b[m\u001b[m          brca.fasta       brca_reads.fastq\r\n"
     ]
    }
   ],
   "source": [
    "! ls ./P1/"
   ]
  },
  {
   "cell_type": "code",
   "execution_count": 5,
   "metadata": {},
   "outputs": [
    {
     "name": "stdout",
     "output_type": "stream",
     "text": [
      "Settings:\n",
      "  Output files: \"./P1/brca.index.*.bt2\"\n",
      "  Line rate: 6 (line is 64 bytes)\n",
      "  Lines per side: 1 (side is 64 bytes)\n",
      "  Offset rate: 4 (one in 16)\n",
      "  FTable chars: 10\n",
      "  Strings: unpacked\n",
      "  Max bucket size: default\n",
      "  Max bucket size, sqrt multiplier: default\n",
      "  Max bucket size, len divisor: 4\n",
      "  Difference-cover sample period: 1024\n",
      "  Endianness: little\n",
      "  Actual local endianness: little\n",
      "  Sanity checking: disabled\n",
      "  Assertions: disabled\n",
      "  Random seed: 0\n",
      "  Sizeofs: void*:8, int:4, long:8, size_t:8\n",
      "Input files DNA, FASTA:\n",
      "  ./P1/brca.fasta\n",
      "Building a SMALL index\n",
      "Reading reference sizes\n",
      "  Time reading reference sizes: 00:00:00\n",
      "Calculating joined length\n",
      "Writing header\n",
      "Reserving space for joined string\n",
      "Joining reference sequences\n",
      "  Time to join reference sequences: 00:00:00\n",
      "bmax according to bmaxDivN setting: 1841\n",
      "Using parameters --bmax 1381 --dcv 1024\n",
      "  Doing ahead-of-time memory usage test\n",
      "  Passed!  Constructing with these parameters: --bmax 1381 --dcv 1024\n",
      "Constructing suffix-array element generator\n",
      "Building DifferenceCoverSample\n",
      "  Building sPrime\n",
      "  Building sPrimeOrder\n",
      "  V-Sorting samples\n",
      "  V-Sorting samples time: 00:00:00\n",
      "  Allocating rank array\n",
      "  Ranking v-sort output\n",
      "  Ranking v-sort output time: 00:00:00\n",
      "  Invoking Larsson-Sadakane on ranks\n",
      "  Invoking Larsson-Sadakane on ranks time: 00:00:00\n",
      "  Sanity-checking and returning\n",
      "Building samples\n",
      "Reserving space for 12 sample suffixes\n",
      "Generating random suffixes\n",
      "QSorting 12 sample offsets, eliminating duplicates\n",
      "QSorting sample offsets, eliminating duplicates time: 00:00:00\n",
      "Multikey QSorting 12 samples\n",
      "  (Using difference cover)\n",
      "  Multikey QSorting samples time: 00:00:00\n",
      "Calculating bucket sizes\n",
      "Splitting and merging\n",
      "  Splitting and merging time: 00:00:00\n",
      "Avg bucket size: 7364 (target: 1380)\n",
      "Converting suffix-array elements to index image\n",
      "Allocating ftab, absorbFtab\n",
      "Entering Ebwt loop\n",
      "Getting block 1 of 1\n",
      "  No samples; assembling all-inclusive block\n",
      "  Sorting block of length 7364 for bucket 1\n",
      "  (Using difference cover)\n",
      "  Sorting block time: 00:00:00\n",
      "Returning block of 7365 for bucket 1\n",
      "Exited Ebwt loop\n",
      "fchr[A]: 0\n",
      "fchr[C]: 2470\n",
      "fchr[G]: 3895\n",
      "fchr[T]: 5551\n",
      "fchr[$]: 7364\n",
      "Exiting Ebwt::buildToDisk()\n",
      "Returning from initFromVector\n",
      "Wrote 4196984 bytes to primary EBWT file: ./P1/brca.index.1.bt2\n",
      "Wrote 1848 bytes to secondary EBWT file: ./P1/brca.index.2.bt2\n",
      "Re-opening _in1 and _in2 as input streams\n",
      "Returning from Ebwt constructor\n",
      "Headers:\n",
      "    len: 7364\n",
      "    bwtLen: 7365\n",
      "    sz: 1841\n",
      "    bwtSz: 1842\n",
      "    lineRate: 6\n",
      "    offRate: 4\n",
      "    offMask: 0xfffffff0\n",
      "    ftabChars: 10\n",
      "    eftabLen: 20\n",
      "    eftabSz: 80\n",
      "    ftabLen: 1048577\n",
      "    ftabSz: 4194308\n",
      "    offsLen: 461\n",
      "    offsSz: 1844\n",
      "    lineSz: 64\n",
      "    sideSz: 64\n",
      "    sideBwtSz: 48\n",
      "    sideBwtLen: 192\n",
      "    numSides: 39\n",
      "    numLines: 39\n",
      "    ebwtTotLen: 2496\n",
      "    ebwtTotSz: 2496\n",
      "    color: 0\n",
      "    reverse: 0\n",
      "Total time for call to driver() for forward index: 00:00:00\n",
      "Reading reference sizes\n",
      "  Time reading reference sizes: 00:00:00\n",
      "Calculating joined length\n",
      "Writing header\n",
      "Reserving space for joined string\n",
      "Joining reference sequences\n",
      "  Time to join reference sequences: 00:00:00\n",
      "  Time to reverse reference sequence: 00:00:00\n",
      "bmax according to bmaxDivN setting: 1841\n",
      "Using parameters --bmax 1381 --dcv 1024\n",
      "  Doing ahead-of-time memory usage test\n",
      "  Passed!  Constructing with these parameters: --bmax 1381 --dcv 1024\n",
      "Constructing suffix-array element generator\n",
      "Building DifferenceCoverSample\n",
      "  Building sPrime\n",
      "  Building sPrimeOrder\n",
      "  V-Sorting samples\n",
      "  V-Sorting samples time: 00:00:00\n",
      "  Allocating rank array\n",
      "  Ranking v-sort output\n",
      "  Ranking v-sort output time: 00:00:00\n",
      "  Invoking Larsson-Sadakane on ranks\n",
      "  Invoking Larsson-Sadakane on ranks time: 00:00:00\n",
      "  Sanity-checking and returning\n",
      "Building samples\n",
      "Reserving space for 12 sample suffixes\n",
      "Generating random suffixes\n",
      "QSorting 12 sample offsets, eliminating duplicates\n",
      "QSorting sample offsets, eliminating duplicates time: 00:00:00\n",
      "Multikey QSorting 12 samples\n",
      "  (Using difference cover)\n",
      "  Multikey QSorting samples time: 00:00:00\n",
      "Calculating bucket sizes\n",
      "Splitting and merging\n",
      "  Splitting and merging time: 00:00:00\n",
      "Avg bucket size: 7364 (target: 1380)\n",
      "Converting suffix-array elements to index image\n",
      "Allocating ftab, absorbFtab\n",
      "Entering Ebwt loop\n",
      "Getting block 1 of 1\n",
      "  No samples; assembling all-inclusive block\n",
      "  Sorting block of length 7364 for bucket 1\n",
      "  (Using difference cover)\n",
      "  Sorting block time: 00:00:00\n",
      "Returning block of 7365 for bucket 1\n",
      "Exited Ebwt loop\n",
      "fchr[A]: 0\n",
      "fchr[C]: 2470\n",
      "fchr[G]: 3895\n",
      "fchr[T]: 5551\n",
      "fchr[$]: 7364\n",
      "Exiting Ebwt::buildToDisk()\n",
      "Returning from initFromVector\n",
      "Wrote 4196984 bytes to primary EBWT file: ./P1/brca.index.rev.1.bt2\n",
      "Wrote 1848 bytes to secondary EBWT file: ./P1/brca.index.rev.2.bt2\n",
      "Re-opening _in1 and _in2 as input streams\n",
      "Returning from Ebwt constructor\n",
      "Headers:\n",
      "    len: 7364\n",
      "    bwtLen: 7365\n",
      "    sz: 1841\n",
      "    bwtSz: 1842\n",
      "    lineRate: 6\n",
      "    offRate: 4\n",
      "    offMask: 0xfffffff0\n",
      "    ftabChars: 10\n",
      "    eftabLen: 20\n",
      "    eftabSz: 80\n",
      "    ftabLen: 1048577\n",
      "    ftabSz: 4194308\n",
      "    offsLen: 461\n",
      "    offsSz: 1844\n",
      "    lineSz: 64\n",
      "    sideSz: 64\n",
      "    sideBwtSz: 48\n",
      "    sideBwtLen: 192\n",
      "    numSides: 39\n",
      "    numLines: 39\n",
      "    ebwtTotLen: 2496\n",
      "    ebwtTotSz: 2496\n",
      "    color: 0\n",
      "    reverse: 1\n",
      "Total time for backward call to driver() for mirror index: 00:00:00\n"
     ]
    }
   ],
   "source": [
    "# 1. Index the reference\n",
    "! bowtie2-build ./P1/brca.fasta ./P1/brca.index"
   ]
  },
  {
   "cell_type": "code",
   "execution_count": 6,
   "metadata": {},
   "outputs": [
    {
     "name": "stdout",
     "output_type": "stream",
     "text": [
      "\u001b[34mArchive\u001b[m\u001b[m              brca.index.2.bt2     brca.index.rev.1.bt2\r\n",
      "brca.fasta           brca.index.3.bt2     brca.index.rev.2.bt2\r\n",
      "brca.index.1.bt2     brca.index.4.bt2     brca_reads.fastq\r\n"
     ]
    }
   ],
   "source": [
    "! ls ./P1/"
   ]
  },
  {
   "cell_type": "code",
   "execution_count": 7,
   "metadata": {},
   "outputs": [
    {
     "name": "stdout",
     "output_type": "stream",
     "text": [
      "6 reads; of these:\r\n",
      "  6 (100.00%) were unpaired; of these:\r\n",
      "    0 (0.00%) aligned 0 times\r\n",
      "    5 (83.33%) aligned exactly 1 time\r\n",
      "    1 (16.67%) aligned >1 times\r\n",
      "100.00% overall alignment rate\r\n"
     ]
    }
   ],
   "source": [
    "# 2. Map the reads\n",
    "! bowtie2 -sensitive -x ./P1/brca.index -U ./P1/brca_reads.fastq -S ./P1/bowtie2_alignment.sam"
   ]
  },
  {
   "cell_type": "code",
   "execution_count": 8,
   "metadata": {},
   "outputs": [
    {
     "name": "stdout",
     "output_type": "stream",
     "text": [
      "6 reads; of these:\r\n",
      "  6 (100.00%) were unpaired; of these:\r\n",
      "    0 (0.00%) aligned 0 times\r\n",
      "    5 (83.33%) aligned exactly 1 time\r\n",
      "    1 (16.67%) aligned >1 times\r\n",
      "100.00% overall alignment rate\r\n"
     ]
    }
   ],
   "source": [
    "## Add -a option: search and report all alignments\n",
    "! bowtie2 -sensitive -a -x ./P1/brca.index -U ./P1/brca_reads.fastq -S ./P1/bowtie2_alignment2.sam"
   ]
  },
  {
   "cell_type": "code",
   "execution_count": 9,
   "metadata": {},
   "outputs": [],
   "source": [
    "# 3. Convert to bam\n",
    "! samtools view -hb -o ./P1/bowtie2_alignment.bam -S ./P1/bowtie2_alignment.sam"
   ]
  },
  {
   "cell_type": "code",
   "execution_count": 10,
   "metadata": {},
   "outputs": [
    {
     "name": "stdout",
     "output_type": "stream",
     "text": [
      "\u001b[34mArchive\u001b[m\u001b[m                brca.fasta             brca.index.4.bt2\r\n",
      "bowtie2_alignment.bam  brca.index.1.bt2       brca.index.rev.1.bt2\r\n",
      "bowtie2_alignment.sam  brca.index.2.bt2       brca.index.rev.2.bt2\r\n",
      "bowtie2_alignment2.sam brca.index.3.bt2       brca_reads.fastq\r\n"
     ]
    }
   ],
   "source": [
    "! ls ./P1/"
   ]
  },
  {
   "cell_type": "code",
   "execution_count": 11,
   "metadata": {},
   "outputs": [],
   "source": [
    "# 4. Sort the bam \n",
    "! samtools sort ./P1/bowtie2_alignment.bam -o ./P1/bowtie2_alignment.sorted.bam"
   ]
  },
  {
   "cell_type": "code",
   "execution_count": 12,
   "metadata": {},
   "outputs": [
    {
     "name": "stdout",
     "output_type": "stream",
     "text": [
      "\u001b[34mArchive\u001b[m\u001b[m                      brca.index.2.bt2\r\n",
      "bowtie2_alignment.bam        brca.index.3.bt2\r\n",
      "bowtie2_alignment.sam        brca.index.4.bt2\r\n",
      "bowtie2_alignment.sorted.bam brca.index.rev.1.bt2\r\n",
      "bowtie2_alignment2.sam       brca.index.rev.2.bt2\r\n",
      "brca.fasta                   brca_reads.fastq\r\n",
      "brca.index.1.bt2\r\n"
     ]
    }
   ],
   "source": [
    "! ls ./P1/"
   ]
  },
  {
   "cell_type": "code",
   "execution_count": 13,
   "metadata": {},
   "outputs": [],
   "source": [
    "# 5. Index the bam\n",
    "! samtools index ./P1/bowtie2_alignment.sorted.bam"
   ]
  },
  {
   "cell_type": "code",
   "execution_count": 14,
   "metadata": {},
   "outputs": [
    {
     "name": "stdout",
     "output_type": "stream",
     "text": [
      "\u001b[34mArchive\u001b[m\u001b[m                          brca.index.1.bt2\r\n",
      "bowtie2_alignment.bam            brca.index.2.bt2\r\n",
      "bowtie2_alignment.sam            brca.index.3.bt2\r\n",
      "bowtie2_alignment.sorted.bam     brca.index.4.bt2\r\n",
      "bowtie2_alignment.sorted.bam.bai brca.index.rev.1.bt2\r\n",
      "bowtie2_alignment2.sam           brca.index.rev.2.bt2\r\n",
      "brca.fasta                       brca_reads.fastq\r\n"
     ]
    }
   ],
   "source": [
    "! ls ./P1/"
   ]
  },
  {
   "cell_type": "markdown",
   "metadata": {},
   "source": [
    "** ** \n",
    "*bwa*"
   ]
  },
  {
   "cell_type": "code",
   "execution_count": 17,
   "metadata": {},
   "outputs": [
    {
     "name": "stdout",
     "output_type": "stream",
     "text": [
      "\u001b[34mArchive\u001b[m\u001b[m                 maize_unigene_ref.fasta root.454.fastq\r\n"
     ]
    }
   ],
   "source": [
    "! ls ./P3/"
   ]
  },
  {
   "cell_type": "code",
   "execution_count": 18,
   "metadata": {},
   "outputs": [
    {
     "name": "stdout",
     "output_type": "stream",
     "text": [
      "[bwa_index] Pack FASTA... 0.01 sec\n",
      "[bwa_index] Construct BWT for the packed sequence...\n",
      "[BWTIncCreate] textLength=614110, availableWord=780628\n",
      "[bwt_gen] Finished constructing BWT in 5 iterations.\n",
      "[bwa_index] 0.10 seconds elapse.\n",
      "[bwa_index] Update BWT... 0.01 sec\n",
      "[bwa_index] Pack forward-only FASTA... 0.00 sec\n",
      "[bwa_index] Construct SA from BWT and Occ... 0.03 sec\n",
      "[main] Version: 0.7.17-r1188\n",
      "[main] CMD: bwa index -p reference -a bwtsw ./P3/maize_unigene_ref.fasta\n",
      "[main] Real time: 0.251 sec; CPU: 0.162 sec\n"
     ]
    }
   ],
   "source": [
    "# 1. Index the reference \n",
    "! bwa index -p reference -a bwtsw ./P3/maize_unigene_ref.fasta"
   ]
  },
  {
   "cell_type": "code",
   "execution_count": 21,
   "metadata": {},
   "outputs": [
    {
     "name": "stdout",
     "output_type": "stream",
     "text": [
      "\u001b[34mArchive\u001b[m\u001b[m                 reference.ann           reference.sa\r\n",
      "maize_unigene_ref.fasta reference.bwt           root.454.fastq\r\n",
      "reference.amb           reference.pac\r\n"
     ]
    }
   ],
   "source": [
    "# Had to manually move the files in the folder as they were created in the parent directory\n",
    "! ls ./P3/"
   ]
  },
  {
   "cell_type": "code",
   "execution_count": 22,
   "metadata": {},
   "outputs": [
    {
     "name": "stdout",
     "output_type": "stream",
     "text": [
      "[M::bwa_idx_load_from_disk] read 0 ALT contigs\n",
      "[M::process] read 4888 sequences (1034913 bp)...\n",
      "[M::mem_process_seqs] Processed 4888 reads in 0.900 CPU sec, 0.904 real sec\n",
      "[main] Version: 0.7.17-r1188\n",
      "[main] CMD: bwa mem ./P3/reference ./P3/root.454.fastq\n",
      "[main] Real time: 1.234 sec; CPU: 0.970 sec\n"
     ]
    }
   ],
   "source": [
    "# 2. Map the reads \n",
    "! bwa mem ./P3/reference ./P3/root.454.fastq > ./P3/mapped_res.sam"
   ]
  },
  {
   "cell_type": "code",
   "execution_count": 23,
   "metadata": {},
   "outputs": [],
   "source": [
    "# 3. Convert to bam\n",
    "# 4. Sort bam\n",
    "# 5. Index ba\n",
    "\n",
    "## to be performed with samtools as above"
   ]
  },
  {
   "cell_type": "markdown",
   "metadata": {},
   "source": [
    "** ** \n",
    "*Convert reference input file from genebank to fasta using python script*\n",
    "\n",
    "**Biopython:** https://anaconda.org/anaconda/biopython\n",
    "**SeqIO:** https://biopython.org/wiki/SeqIO"
   ]
  },
  {
   "cell_type": "code",
   "execution_count": 1,
   "metadata": {},
   "outputs": [
    {
     "name": "stdout",
     "output_type": "stream",
     "text": [
      "\u001b[34mArchive\u001b[m\u001b[m                     mito_reads.tar.gz\r\n",
      "mito_human_ref_nc_012920.gb\r\n"
     ]
    }
   ],
   "source": [
    "! ls ./P4/"
   ]
  },
  {
   "cell_type": "code",
   "execution_count": 2,
   "metadata": {},
   "outputs": [
    {
     "data": {
      "text/plain": [
       "1"
      ]
     },
     "execution_count": 2,
     "metadata": {},
     "output_type": "execute_result"
    }
   ],
   "source": [
    "from Bio import SeqIO\n",
    "infile_genbank = \"./P4/mito_human_ref_nc_012920.gb\"\n",
    "outfile = \"./P4/mito_human_ref_nc_012920.fasta\"\n",
    "\n",
    "SeqIO.convert(infile_genbank, \"genbank\", outfile, \"fasta\")"
   ]
  },
  {
   "cell_type": "code",
   "execution_count": 3,
   "metadata": {},
   "outputs": [
    {
     "name": "stdout",
     "output_type": "stream",
     "text": [
      "\u001b[34mArchive\u001b[m\u001b[m                        mito_human_ref_nc_012920.gb\r\n",
      "mito_human_ref_nc_012920.fasta mito_reads.tar.gz\r\n"
     ]
    }
   ],
   "source": [
    "! ls ./P4/"
   ]
  },
  {
   "cell_type": "code",
   "execution_count": 4,
   "metadata": {},
   "outputs": [
    {
     "name": "stdout",
     "output_type": "stream",
     "text": [
      "Settings:\n",
      "  Output files: \"./P4/mito_human_index.*.bt2\"\n",
      "  Line rate: 6 (line is 64 bytes)\n",
      "  Lines per side: 1 (side is 64 bytes)\n",
      "  Offset rate: 4 (one in 16)\n",
      "  FTable chars: 10\n",
      "  Strings: unpacked\n",
      "  Max bucket size: default\n",
      "  Max bucket size, sqrt multiplier: default\n",
      "  Max bucket size, len divisor: 4\n",
      "  Difference-cover sample period: 1024\n",
      "  Endianness: little\n",
      "  Actual local endianness: little\n",
      "  Sanity checking: disabled\n",
      "  Assertions: disabled\n",
      "  Random seed: 0\n",
      "  Sizeofs: void*:8, int:4, long:8, size_t:8\n",
      "Input files DNA, FASTA:\n",
      "  ./P4/mito_human_ref_nc_012920.fasta\n",
      "Building a SMALL index\n",
      "Reading reference sizes\n",
      "  Time reading reference sizes: 00:00:00\n",
      "Calculating joined length\n",
      "Writing header\n",
      "Reserving space for joined string\n",
      "Joining reference sequences\n",
      "  Time to join reference sequences: 00:00:00\n",
      "bmax according to bmaxDivN setting: 4142\n",
      "Using parameters --bmax 3107 --dcv 1024\n",
      "  Doing ahead-of-time memory usage test\n",
      "  Passed!  Constructing with these parameters: --bmax 3107 --dcv 1024\n",
      "Constructing suffix-array element generator\n",
      "Building DifferenceCoverSample\n",
      "  Building sPrime\n",
      "  Building sPrimeOrder\n",
      "  V-Sorting samples\n",
      "  V-Sorting samples time: 00:00:00\n",
      "  Allocating rank array\n",
      "  Ranking v-sort output\n",
      "  Ranking v-sort output time: 00:00:00\n",
      "  Invoking Larsson-Sadakane on ranks\n",
      "  Invoking Larsson-Sadakane on ranks time: 00:00:00\n",
      "  Sanity-checking and returning\n",
      "Building samples\n",
      "Reserving space for 12 sample suffixes\n",
      "Generating random suffixes\n",
      "QSorting 12 sample offsets, eliminating duplicates\n",
      "QSorting sample offsets, eliminating duplicates time: 00:00:00\n",
      "Multikey QSorting 12 samples\n",
      "  (Using difference cover)\n",
      "  Multikey QSorting samples time: 00:00:00\n",
      "Calculating bucket sizes\n",
      "Splitting and merging\n",
      "  Splitting and merging time: 00:00:00\n",
      "Avg bucket size: 16568 (target: 3106)\n",
      "Converting suffix-array elements to index image\n",
      "Allocating ftab, absorbFtab\n",
      "Entering Ebwt loop\n",
      "Getting block 1 of 1\n",
      "  No samples; assembling all-inclusive block\n",
      "  Sorting block of length 16568 for bucket 1\n",
      "  (Using difference cover)\n",
      "  Sorting block time: 00:00:00\n",
      "Returning block of 16569 for bucket 1\n",
      "Exited Ebwt loop\n",
      "fchr[A]: 0\n",
      "fchr[C]: 5124\n",
      "fchr[G]: 10305\n",
      "fchr[T]: 12474\n",
      "fchr[$]: 16568\n",
      "Exiting Ebwt::buildToDisk()\n",
      "Returning from initFromVector\n",
      "Wrote 4200101 bytes to primary EBWT file: ./P4/mito_human_index.1.bt2\n",
      "Wrote 4148 bytes to secondary EBWT file: ./P4/mito_human_index.2.bt2\n",
      "Re-opening _in1 and _in2 as input streams\n",
      "Returning from Ebwt constructor\n",
      "Headers:\n",
      "    len: 16568\n",
      "    bwtLen: 16569\n",
      "    sz: 4142\n",
      "    bwtSz: 4143\n",
      "    lineRate: 6\n",
      "    offRate: 4\n",
      "    offMask: 0xfffffff0\n",
      "    ftabChars: 10\n",
      "    eftabLen: 20\n",
      "    eftabSz: 80\n",
      "    ftabLen: 1048577\n",
      "    ftabSz: 4194308\n",
      "    offsLen: 1036\n",
      "    offsSz: 4144\n",
      "    lineSz: 64\n",
      "    sideSz: 64\n",
      "    sideBwtSz: 48\n",
      "    sideBwtLen: 192\n",
      "    numSides: 87\n",
      "    numLines: 87\n",
      "    ebwtTotLen: 5568\n",
      "    ebwtTotSz: 5568\n",
      "    color: 0\n",
      "    reverse: 0\n",
      "Total time for call to driver() for forward index: 00:00:00\n",
      "Reading reference sizes\n",
      "  Time reading reference sizes: 00:00:00\n",
      "Calculating joined length\n",
      "Writing header\n",
      "Reserving space for joined string\n",
      "Joining reference sequences\n",
      "  Time to join reference sequences: 00:00:00\n",
      "  Time to reverse reference sequence: 00:00:00\n",
      "bmax according to bmaxDivN setting: 4142\n",
      "Using parameters --bmax 3107 --dcv 1024\n",
      "  Doing ahead-of-time memory usage test\n",
      "  Passed!  Constructing with these parameters: --bmax 3107 --dcv 1024\n",
      "Constructing suffix-array element generator\n",
      "Building DifferenceCoverSample\n",
      "  Building sPrime\n",
      "  Building sPrimeOrder\n",
      "  V-Sorting samples\n",
      "  V-Sorting samples time: 00:00:00\n",
      "  Allocating rank array\n",
      "  Ranking v-sort output\n",
      "  Ranking v-sort output time: 00:00:00\n",
      "  Invoking Larsson-Sadakane on ranks\n",
      "  Invoking Larsson-Sadakane on ranks time: 00:00:00\n",
      "  Sanity-checking and returning\n",
      "Building samples\n",
      "Reserving space for 12 sample suffixes\n",
      "Generating random suffixes\n",
      "QSorting 12 sample offsets, eliminating duplicates\n",
      "QSorting sample offsets, eliminating duplicates time: 00:00:00\n",
      "Multikey QSorting 12 samples\n",
      "  (Using difference cover)\n",
      "  Multikey QSorting samples time: 00:00:00\n",
      "Calculating bucket sizes\n",
      "Splitting and merging\n",
      "  Splitting and merging time: 00:00:00\n",
      "Avg bucket size: 16568 (target: 3106)\n",
      "Converting suffix-array elements to index image\n",
      "Allocating ftab, absorbFtab\n",
      "Entering Ebwt loop\n",
      "Getting block 1 of 1\n",
      "  No samples; assembling all-inclusive block\n",
      "  Sorting block of length 16568 for bucket 1\n",
      "  (Using difference cover)\n",
      "  Sorting block time: 00:00:00\n",
      "Returning block of 16569 for bucket 1\n",
      "Exited Ebwt loop\n",
      "fchr[A]: 0\n",
      "fchr[C]: 5124\n",
      "fchr[G]: 10305\n",
      "fchr[T]: 12474\n",
      "fchr[$]: 16568\n",
      "Exiting Ebwt::buildToDisk()\n",
      "Returning from initFromVector\n",
      "Wrote 4200101 bytes to primary EBWT file: ./P4/mito_human_index.rev.1.bt2\n",
      "Wrote 4148 bytes to secondary EBWT file: ./P4/mito_human_index.rev.2.bt2\n",
      "Re-opening _in1 and _in2 as input streams\n",
      "Returning from Ebwt constructor\n",
      "Headers:\n",
      "    len: 16568\n",
      "    bwtLen: 16569\n",
      "    sz: 4142\n",
      "    bwtSz: 4143\n",
      "    lineRate: 6\n",
      "    offRate: 4\n",
      "    offMask: 0xfffffff0\n",
      "    ftabChars: 10\n",
      "    eftabLen: 20\n",
      "    eftabSz: 80\n",
      "    ftabLen: 1048577\n",
      "    ftabSz: 4194308\n",
      "    offsLen: 1036\n",
      "    offsSz: 4144\n",
      "    lineSz: 64\n",
      "    sideSz: 64\n",
      "    sideBwtSz: 48\n",
      "    sideBwtLen: 192\n",
      "    numSides: 87\n",
      "    numLines: 87\n",
      "    ebwtTotLen: 5568\n",
      "    ebwtTotSz: 5568\n",
      "    color: 0\n",
      "    reverse: 1\n",
      "Total time for backward call to driver() for mirror index: 00:00:01\n"
     ]
    }
   ],
   "source": [
    "# 1. Index the reference\n",
    "! bowtie2-build ./P4/mito_human_ref_nc_012920.fasta ./P4/mito_human_index"
   ]
  },
  {
   "cell_type": "code",
   "execution_count": 5,
   "metadata": {},
   "outputs": [
    {
     "name": "stdout",
     "output_type": "stream",
     "text": [
      "\u001b[34mArchive\u001b[m\u001b[m                        mito_human_index.rev.1.bt2\r\n",
      "mito_human_index.1.bt2         mito_human_index.rev.2.bt2\r\n",
      "mito_human_index.2.bt2         mito_human_ref_nc_012920.fasta\r\n",
      "mito_human_index.3.bt2         mito_human_ref_nc_012920.gb\r\n",
      "mito_human_index.4.bt2         mito_reads.tar.gz\r\n"
     ]
    }
   ],
   "source": [
    "! ls ./P4/"
   ]
  },
  {
   "cell_type": "code",
   "execution_count": 7,
   "metadata": {},
   "outputs": [
    {
     "name": "stdout",
     "output_type": "stream",
     "text": [
      "x mito_reads_pe1.fastq.gz\n",
      "x mito_reads_pe2.fastq.gz\n"
     ]
    }
   ],
   "source": [
    "! tar -xvzf ./P4/mito_reads.tar.gz"
   ]
  },
  {
   "cell_type": "code",
   "execution_count": 9,
   "metadata": {},
   "outputs": [
    {
     "name": "stdout",
     "output_type": "stream",
     "text": [
      "\u001b[34mArchive\u001b[m\u001b[m                        mito_human_index.rev.2.bt2\r\n",
      "mito_human_index.1.bt2         mito_human_ref_nc_012920.fasta\r\n",
      "mito_human_index.2.bt2         mito_human_ref_nc_012920.gb\r\n",
      "mito_human_index.3.bt2         mito_reads.tar.gz\r\n",
      "mito_human_index.4.bt2         mito_reads_pe1.fastq.gz\r\n",
      "mito_human_index.rev.1.bt2     mito_reads_pe2.fastq.gz\r\n"
     ]
    }
   ],
   "source": [
    "# Manually move the reads in the folder\n",
    "! ls ./P4/"
   ]
  },
  {
   "cell_type": "code",
   "execution_count": 25,
   "metadata": {},
   "outputs": [
    {
     "name": "stdout",
     "output_type": "stream",
     "text": [
      "10000 reads; of these:\r\n",
      "  10000 (100.00%) were paired; of these:\r\n",
      "    5101 (51.01%) aligned concordantly 0 times\r\n",
      "    4899 (48.99%) aligned concordantly exactly 1 time\r\n",
      "    0 (0.00%) aligned concordantly >1 times\r\n",
      "    ----\r\n",
      "    5101 pairs aligned concordantly 0 times; of these:\r\n",
      "      4581 (89.81%) aligned discordantly 1 time\r\n",
      "    ----\r\n",
      "    520 pairs aligned 0 times concordantly or discordantly; of these:\r\n",
      "      1040 mates make up the pairs; of these:\r\n",
      "        737 (70.87%) aligned 0 times\r\n",
      "        303 (29.13%) aligned exactly 1 time\r\n",
      "        0 (0.00%) aligned >1 times\r\n",
      "96.31% overall alignment rate\r\n"
     ]
    }
   ],
   "source": [
    "# 2. Mapping the reads - paired end\n",
    "! bowtie2 --very-fast -x ./P4/mito_human_index -1 ./P4/mito_reads_pe1.fastq.gz -2 ./P4/mito_reads_pe2.fastq.gz -S ./P4/1.aligned_reads.sam\n"
   ]
  },
  {
   "cell_type": "markdown",
   "metadata": {},
   "source": [
    "Explanation: \n",
    "\n",
    "A pair that aligns with the expected relative mate orientation and with the expected range of distances between mates is said to align **concordantly**. If both mates have unique alignments, but the alignments do not match paired-end expectations (i.e. the mates aren’t in the expected relative orientation, or aren’t within the expected distance range, or both), the pair is said to align **discordantly**.\n",
    "\n",
    "* aligned 0 times: unmapped\n",
    "* aligned exactly 1 times: unique match\n",
    "* aligned >1 times: multiple match\n",
    "\n",
    "Above\n",
    "* Total reads (paired): *10.000*\n",
    "  * Aligned concordantly: *4899 (48.99%)*\n",
    "  * Remaining: *5101 (51.01%)*\n",
    "    * Aligned discordantly: *4581 (89.81%)*\n",
    "    * Remaining: *520* -> pairs divided: *1040* reads\n",
    "      * Aligned: *303 (29.13%)*\n",
    "      * Remaining: *737 (70.87%)*\n",
    "* Overall aligment rate: *96.31% (4899+4581+(303/2)*)\n",
    "* Reads not aligned: *737*"
   ]
  },
  {
   "cell_type": "code",
   "execution_count": 26,
   "metadata": {},
   "outputs": [
    {
     "name": "stdout",
     "output_type": "stream",
     "text": [
      "10000 reads; of these:\r\n",
      "  10000 (100.00%) were paired; of these:\r\n",
      "    5001 (50.01%) aligned concordantly 0 times\r\n",
      "    4999 (49.99%) aligned concordantly exactly 1 time\r\n",
      "    0 (0.00%) aligned concordantly >1 times\r\n",
      "    ----\r\n",
      "    5001 pairs aligned concordantly 0 times; of these:\r\n",
      "      4895 (97.88%) aligned discordantly 1 time\r\n",
      "    ----\r\n",
      "    106 pairs aligned 0 times concordantly or discordantly; of these:\r\n",
      "      212 mates make up the pairs; of these:\r\n",
      "        166 (78.30%) aligned 0 times\r\n",
      "        46 (21.70%) aligned exactly 1 time\r\n",
      "        0 (0.00%) aligned >1 times\r\n",
      "99.17% overall alignment rate\r\n"
     ]
    }
   ],
   "source": [
    "# Try more sensitive setting\n",
    "! bowtie2 --very-sensitive-local -x ./P4/mito_human_index -1 ./P4/mito_reads_pe1.fastq.gz -2 ./P4/mito_reads_pe2.fastq.gz -S ./P4/1.aligned_reads.sam\n"
   ]
  },
  {
   "cell_type": "markdown",
   "metadata": {},
   "source": [
    "More reads aligned to reference with `--very-sensitive-local` settings (*99.17%* vs *96.31%*)\n",
    "\n",
    "`--very-fast`: `-D 5 -R 1 -N 0 -L 22 -i S,0,2.50`\n",
    "\n",
    "`--very-sensitive`: `-D 20 -R 3 -N 0 -L 20 -i S,1,0.50`\n",
    "\n",
    "**Effort options**\n",
    "\n",
    "`-D INT`: up to INT consecutive seed extension attempts can “fail” before Bowtie 2 moves on, using the alignments found so far\n",
    "* A seed extension “fails” if it does not yield a new best or a new second-best alignment\n",
    "* This limit is automatically adjusted up when -k or -a are specified\n",
    "* Default: 15\n",
    "\n",
    "`-R INT`: INT is the maximum number of times Bowtie 2 will “re-seed” reads with repetitive seeds\n",
    "* When “re-seeding,” Bowtie 2 simply chooses a new set of reads (same length, same number of mismatches allowed) at different offsets and searches for more alignments\n",
    "* A read is considered to have repetitive seeds if the total number of seed hits divided by the number of seeds that aligned at least once is greater than 300\n",
    "* Default: 2\n",
    "\n",
    "**Aligment options**\n",
    "    \n",
    "`-N INT`: sets the number of mismatches to allowed in a seed alignment during multiseed alignment \n",
    "* Can be set to 0 or 1\n",
    "* Setting this higher makes alignment slower (often much slower) but increases sensitivity\n",
    "* Default: 0\n",
    "\n",
    "`-L INT`: sets the length of the seed substrings to align during multiseed alignment\n",
    "* Smaller values make alignment slower but more sensitive\n",
    "* Default: the `--sensitive` preset is used by default, which sets `-L` to `22` and `20` in `--end-to-end` mode and in `--local` mode\n",
    "\n",
    "`-i FUNC`: sets a function governing the interval between seed substrings to use during multiseed alignment\n",
    "* For instance, if the read has 30 characters, and seed length is 10, and the seed interval is 6, the seeds extracted will be:\n",
    "\n",
    "`Read:      TAGCTACGCTCTACGCTATCATGCATAAAC\n",
    "Seed 1 fw: TAGCTACGCT\n",
    "Seed 1 rc: AGCGTAGCTA\n",
    "Seed 2 fw:       CGCTCTACGC\n",
    "Seed 2 rc:       GCGTAGAGCG\n",
    "Seed 3 fw:             ACGCTATCAT\n",
    "Seed 3 rc:             ATGATAGCGT\n",
    "Seed 4 fw:                   TCATGCATAA\n",
    "Seed 4 rc:                   TTATGCATGA`\n",
    "\n",
    "\n",
    "* Since it’s best to use longer intervals for longer reads, this parameter sets the interval as a function of the read length, rather than a single one-size-fits-all number\n",
    "* For instance, specifying `-i S,1,2.5` sets the interval function f to `f(x) = 1 + 2.5 * sqrt(x)`, where `x` is the read length\n",
    "* If the function returns a result less than 1, it is rounded up to 1\n",
    "* Default: the `--sensitive` preset is used by default, which sets `-i` to `S,1,1.15` in `--end-to-end` mode to `-i S,1,0.75` in `--local` mode\n",
    "    \n",
    "**Reporting options**\n",
    "    \n",
    "`-k INT`\n",
    "* By default, bowtie2 searches for distinct, valid alignments for each read. When it finds a valid alignment, it continues looking for alignments that are nearly as good or better. The best alignment found is reported (randomly selected from among best if tied). Information about the best alignments is used to estimate mapping quality and to set SAM optional fields, such as `AS:i` and `XS:i`.\n",
    "* When -k is specified, bowtie2 behaves differently. Instead, it searches for at most INT distinct, valid alignments for each read. The search terminates when it can’t find more distinct valid alignments, or when it finds INT, whichever happens first. All alignments found are reported in descending order by alignment score. \n",
    "  * The alignment score for a paired-end alignment equals the sum of the alignment scores of the individual mates. Each reported read or pair alignment beyond the first has the SAM ‘secondary’ bit (which equals 256) set in its FLAGS field. \n",
    "  * For reads that have more than INT distinct, valid alignments, bowtie2 does not guarantee that the INT alignments reported are the best possible in terms of alignment score\n",
    "* `-k` is mutually exclusive with `-a`\n",
    "\n",
    "***Note:*** *Bowtie 2 is not designed with large values for -k in mind, and when aligning reads to long, repetitive genomes large -k can be very, very slow.*\n",
    "\n",
    "`-a`\n",
    "* Like -k but with no upper limit on number of alignments to search for\n",
    "* `-a` is mutually exclusive with `-k`.\n",
    "\n",
    "***Note:*** *Bowtie 2 is not designed with -a mode in mind, and when aligning reads to long, repetitive genomes this mode can be very, very slow.*\n",
    "\n",
    "**Sam optional fields** \n",
    "\n",
    "`AS:i:N` Alignment score\n",
    "* Can be negative\n",
    "* Can be greater than 0 in `--local` mode (but not in `--end-to-end` mode)\n",
    "* Only present if SAM record is for an aligned read\n",
    "\n",
    "`XS:i:N` Alignment score for the best-scoring alignment found other than the alignment reported\n",
    "* Can be negative\n",
    "* Can be greater than 0 in `--local` mode (but not in `--end-to-end` mode)\n",
    "* Only present if the SAM record is for an aligned read and more than one alignment was found for the read\n",
    "* Note that, when the read is part of a concordantly-aligned pair, this score could be greater than `AS:i`\n",
    "    \n",
    "**Theory**\n",
    "\n",
    "* **Alignment**: https://www.sevenbridges.com/short-read-alignment-algorithms/?__hstc=64521200.b81c63075247264fc44c70adb897a974.1595904494433.1595904494433.1595904494433.1&__hssc=64521200.1.1595904494434&__hsfp=2365945144"
   ]
  },
  {
   "cell_type": "code",
   "execution_count": 27,
   "metadata": {},
   "outputs": [],
   "source": [
    "# 3. Convert to bam\n",
    "! samtools view -hb -o ./P4/2.aligned_reads.bam -S ./P4/1.aligned_reads.sam"
   ]
  },
  {
   "cell_type": "code",
   "execution_count": 28,
   "metadata": {},
   "outputs": [
    {
     "name": "stdout",
     "output_type": "stream",
     "text": [
      "1.aligned_reads.sam            mito_human_index.rev.1.bt2\r\n",
      "2.aligned_reads.bam            mito_human_index.rev.2.bt2\r\n",
      "\u001b[34mArchive\u001b[m\u001b[m                        mito_human_ref_nc_012920.fasta\r\n",
      "mito_human_index.1.bt2         mito_human_ref_nc_012920.gb\r\n",
      "mito_human_index.2.bt2         mito_reads.tar.gz\r\n",
      "mito_human_index.3.bt2         mito_reads_pe1.fastq.gz\r\n",
      "mito_human_index.4.bt2         mito_reads_pe2.fastq.gz\r\n"
     ]
    }
   ],
   "source": [
    "! ls ./P4/"
   ]
  },
  {
   "cell_type": "code",
   "execution_count": 29,
   "metadata": {},
   "outputs": [],
   "source": [
    "# 4. Sort bam\n",
    "! samtools sort ./P4/2.aligned_reads.bam -o ./P4/3.sorted_alignments.bam"
   ]
  },
  {
   "cell_type": "code",
   "execution_count": 30,
   "metadata": {},
   "outputs": [
    {
     "name": "stdout",
     "output_type": "stream",
     "text": [
      "1.aligned_reads.sam            mito_human_index.rev.1.bt2\r\n",
      "2.aligned_reads.bam            mito_human_index.rev.2.bt2\r\n",
      "3.sorted_alignments.bam        mito_human_ref_nc_012920.fasta\r\n",
      "\u001b[34mArchive\u001b[m\u001b[m                        mito_human_ref_nc_012920.gb\r\n",
      "mito_human_index.1.bt2         mito_reads.tar.gz\r\n",
      "mito_human_index.2.bt2         mito_reads_pe1.fastq.gz\r\n",
      "mito_human_index.3.bt2         mito_reads_pe2.fastq.gz\r\n",
      "mito_human_index.4.bt2\r\n"
     ]
    }
   ],
   "source": [
    "! ls ./P4/"
   ]
  },
  {
   "cell_type": "code",
   "execution_count": 31,
   "metadata": {},
   "outputs": [],
   "source": [
    "# 5. Index bam\n",
    "! samtools index ./P4/3.sorted_alignments.bam"
   ]
  },
  {
   "cell_type": "code",
   "execution_count": 32,
   "metadata": {},
   "outputs": [
    {
     "name": "stdout",
     "output_type": "stream",
     "text": [
      "1.aligned_reads.sam            mito_human_index.4.bt2\r\n",
      "2.aligned_reads.bam            mito_human_index.rev.1.bt2\r\n",
      "3.sorted_alignments.bam        mito_human_index.rev.2.bt2\r\n",
      "3.sorted_alignments.bam.bai    mito_human_ref_nc_012920.fasta\r\n",
      "\u001b[34mArchive\u001b[m\u001b[m                        mito_human_ref_nc_012920.gb\r\n",
      "mito_human_index.1.bt2         mito_reads.tar.gz\r\n",
      "mito_human_index.2.bt2         mito_reads_pe1.fastq.gz\r\n",
      "mito_human_index.3.bt2         mito_reads_pe2.fastq.gz\r\n"
     ]
    }
   ],
   "source": [
    "! ls ./P4/"
   ]
  },
  {
   "cell_type": "markdown",
   "metadata": {},
   "source": [
    "** ** \n",
    "\n",
    "*Filtering using samtools*\n",
    "\n",
    "Options for filtering: \n",
    "* Read group\n",
    "* Flag\n",
    "* Mapping quality\n",
    "* Genome location"
   ]
  },
  {
   "cell_type": "code",
   "execution_count": 38,
   "metadata": {},
   "outputs": [],
   "source": [
    "# Filter reads located in the first 10 kilobases of the mithocondrial genome that have a mapping quality over 30\n",
    "! samtools view -b -q 30 ./P4/3.sorted_alignments.bam NC_012920.1:0-10000 > ./P4/4.filtered_alignments.bam   "
   ]
  },
  {
   "cell_type": "code",
   "execution_count": 39,
   "metadata": {},
   "outputs": [
    {
     "name": "stdout",
     "output_type": "stream",
     "text": [
      "1.aligned_reads.sam            mito_human_index.4.bt2\r\n",
      "2.aligned_reads.bam            mito_human_index.rev.1.bt2\r\n",
      "3.sorted_alignments.bam        mito_human_index.rev.2.bt2\r\n",
      "3.sorted_alignments.bam.bai    mito_human_ref_nc_012920.fasta\r\n",
      "4.filtered_alignments.bam      mito_human_ref_nc_012920.gb\r\n",
      "\u001b[34mArchive\u001b[m\u001b[m                        mito_reads.tar.gz\r\n",
      "mito_human_index.1.bt2         mito_reads_pe1.fastq.gz\r\n",
      "mito_human_index.2.bt2         mito_reads_pe2.fastq.gz\r\n",
      "mito_human_index.3.bt2\r\n"
     ]
    }
   ],
   "source": [
    "! ls ./P4/"
   ]
  },
  {
   "cell_type": "markdown",
   "metadata": {},
   "source": [
    "** **\n",
    "\n",
    "*Bam statistics*\n",
    "\n",
    "**flagstat**\n",
    "\n",
    "Provides counts for each of 13 categories based primarily on bit flags in the FLAG field. Each category in the output is broken down into QC pass and QC fail. In the default output format, these are presented as `#PASS + #FAIL` followed by a description of the category.\n",
    "\n",
    "* The first row of output gives the total number of reads that are QC pass and fail (according to flag bit 0x200). For example: `122 + 28 in total (QC-passed reads + QC-failed reads)`. Which would indicate that there are a total of 150 reads in the input file, 122 of which are marked as QC pass and 28 of which are marked as \"not passing quality controls\"\n",
    "\n",
    "* Following this, additional categories are given for reads which are:\n",
    "  * secondary: 0x100 bit set\n",
    "  * supplementary: 0x800 bit set\n",
    "  * duplicates: 0x400 bit set\n",
    "  * mapped: 0x4 bit not set\n",
    "  * paired in sequencing: 0x1 bit set\n",
    "  * read1: both 0x1 and 0x40 bits set\n",
    "  * read2: both 0x1 and 0x80 bits set\n",
    "  * properly paired: both 0x1 and 0x2 bits set and 0x4 bit not set\n",
    "  * with itself and mate mapped: 0x1 bit set and neither 0x4 nor 0x8 bits set\n",
    "  * singletons: both 0x1 and 0x8 bits set and bit 0x4 not set\n",
    "\n",
    "* Two rows are given that additionally filter on the reference name (`RNAME`), mate reference name (`MRNM`), and mapping quality (MAPQ) fields:\n",
    "  * with mate mapped to a different chr: 0x1 bit set and neither 0x4 nor 0x8 bits set and MRNM not equal to RNAME\n",
    "  * with mate mapped to a different chr (mapQ>=5): 0x1 bit set and neither 0x4 nor 0x8 bits set and MRNM not equal to RNAME and MAPQ >= 5\n",
    "\n",
    "More info: http://www.htslib.org/doc/samtools-flagstat.html"
   ]
  },
  {
   "cell_type": "code",
   "execution_count": 40,
   "metadata": {},
   "outputs": [
    {
     "name": "stdout",
     "output_type": "stream",
     "text": [
      "11989 + 0 in total (QC-passed reads + QC-failed reads)\r\n",
      "0 + 0 secondary\r\n",
      "0 + 0 supplementary\r\n",
      "0 + 0 duplicates\r\n",
      "11989 + 0 mapped (100.00% : N/A)\r\n",
      "11989 + 0 paired in sequencing\r\n",
      "6005 + 0 read1\r\n",
      "5984 + 0 read2\r\n",
      "6021 + 0 properly paired (50.22% : N/A)\r\n",
      "11963 + 0 with itself and mate mapped\r\n",
      "26 + 0 singletons (0.22% : N/A)\r\n",
      "0 + 0 with mate mapped to a different chr\r\n",
      "0 + 0 with mate mapped to a different chr (mapQ>=5)\r\n"
     ]
    }
   ],
   "source": [
    "! samtools flagstat ./P4/4.filtered_alignments.bam"
   ]
  },
  {
   "cell_type": "markdown",
   "metadata": {},
   "source": [
    "**stats** \n",
    "\n",
    "Collects statistics from BAM files and outputs in a text format. The output can be visualized graphically using `plot-bamstats`.\n",
    "\n",
    "More info: http://www.htslib.org/doc/samtools-stats.html"
   ]
  },
  {
   "cell_type": "code",
   "execution_count": 42,
   "metadata": {},
   "outputs": [],
   "source": [
    "! samtools stats ./P4/3.sorted_alignments.bam > ./P4/5.sorted_alignments.stats"
   ]
  },
  {
   "cell_type": "code",
   "execution_count": 1,
   "metadata": {},
   "outputs": [],
   "source": [
    "! plot-bamstats -p ./P4/6.stat_output ./P4/5.sorted_alignments.stats"
   ]
  },
  {
   "cell_type": "code",
   "execution_count": 2,
   "metadata": {},
   "outputs": [
    {
     "name": "stdout",
     "output_type": "stream",
     "text": [
      "1.aligned_reads.sam            6.stat_output-quals.gp\r\n",
      "2.aligned_reads.bam            6.stat_output-quals.png\r\n",
      "3.sorted_alignments.bam        6.stat_output-quals2.gp\r\n",
      "3.sorted_alignments.bam.bai    6.stat_output-quals2.png\r\n",
      "4.filtered_alignments.bam      6.stat_output-quals3.gp\r\n",
      "5.sorted_alignments.stats      6.stat_output-quals3.png\r\n",
      "6.stat_output-acgt-cycles.gp   6.stat_output.html\r\n",
      "6.stat_output-acgt-cycles.png  \u001b[34mArchive\u001b[m\u001b[m\r\n",
      "6.stat_output-coverage.gp      mito_human_index.1.bt2\r\n",
      "6.stat_output-coverage.png     mito_human_index.2.bt2\r\n",
      "6.stat_output-gc-content.gp    mito_human_index.3.bt2\r\n",
      "6.stat_output-gc-content.png   mito_human_index.4.bt2\r\n",
      "6.stat_output-indel-cycles.gp  mito_human_index.rev.1.bt2\r\n",
      "6.stat_output-indel-cycles.png mito_human_index.rev.2.bt2\r\n",
      "6.stat_output-indel-dist.gp    mito_human_ref_nc_012920.fasta\r\n",
      "6.stat_output-indel-dist.png   mito_human_ref_nc_012920.gb\r\n",
      "6.stat_output-insert-size.gp   mito_reads.tar.gz\r\n",
      "6.stat_output-insert-size.png  mito_reads_pe1.fastq.gz\r\n",
      "6.stat_output-quals-hm.gp      mito_reads_pe2.fastq.gz\r\n",
      "6.stat_output-quals-hm.png     sorted_alignments.stats\r\n"
     ]
    }
   ],
   "source": [
    "! ls ./P4/"
   ]
  },
  {
   "cell_type": "markdown",
   "metadata": {},
   "source": [
    "**idxstats** \n",
    "Retrieve and print stats in the index file corresponding to the input file. \n",
    "\n",
    "* Before calling idxstats, the input BAM file should be indexed by samtools index\n",
    "* The output is TAB-delimited with each line consisting of \n",
    "  * Reference sequence name\n",
    "  * Sequence length\n",
    "  * Number mapped read-segments \n",
    "  * Number unmapped read-segments\n",
    "* It is written to stdout\n",
    "\n",
    "**Note** this may count reads multiple times if they are mapped more than once or in multiple fragments.\n",
    "\n",
    "* The last line starts with a *star* and count the unmapped reads that are not located in any chromosome of the reference\n",
    "\n",
    "More info: http://www.htslib.org/doc/samtools-idxstats.html"
   ]
  },
  {
   "cell_type": "code",
   "execution_count": 45,
   "metadata": {},
   "outputs": [
    {
     "name": "stdout",
     "output_type": "stream",
     "text": [
      "NC_012920.1\t16569\t19834\t46\r\n",
      "*\t0\t0\t120\r\n"
     ]
    }
   ],
   "source": [
    "! samtools idxstats ./P4/3.sorted_alignments.bam"
   ]
  },
  {
   "cell_type": "markdown",
   "metadata": {},
   "source": [
    "** ** \n",
    "\n",
    "*Coverage calculations* \n",
    "\n",
    "**bedtools** \n",
    "* Conda: https://bioconda.github.io/recipes/bedtools/README.html#package-bedtools\n",
    "* Manual: https://bedtools.readthedocs.io/en/latest/\n",
    "\n",
    "***coverage*** https://bedtools.readthedocs.io/en/latest/content/tools/coverage.html\n",
    "* Blog: https://gettinggeneticsdone.blogspot.com/2014/03/visualize-coverage-exome-targeted-ngs-bedtools.html\n",
    "* Tutorial: https://github.com/arq5x/bedtools-protocols/blob/master/bedtools.md\n",
    "\n",
    "***genomecov*** https://bedtools.readthedocs.io/en/latest/content/tools/genomecov.html\n",
    "* Answer: https://www.biostars.org/p/104063/\n",
    "\n",
    "**Qualimap**\n",
    "* Conda: https://bioconda.github.io/recipes/qualimap/README.html#package-qualimap\n",
    "* Manual: http://qualimap.bioinfo.cipf.es/doc_html/analysis.html#global-plots\n",
    "\n",
    "**Biopet-bamstats** - not recommended \n",
    "* Conda: https://bioconda.github.io/recipes/biopet-bamstats/README.html#package-biopet-bamstats\n",
    "* Manual: http://bamstats.sourceforge.net/\n",
    "\n",
    "**Mosdepth** - new\n",
    "* Conda: https://bioconda.github.io/recipes/mosdepth/README.html#package-mosdepth\n",
    "* Manual: https://github.com/brentp/mosdepth\n",
    "\n",
    "**Deeptools** - seems cool\n",
    "* Conda: https://bioconda.github.io/recipes/deeptools/README.html#package-deeptools\n",
    "* Manual: https://deeptools.readthedocs.io/en/develop/content/list_of_tools.html\n",
    "\n",
    "Useful info on how to do calculate the coverage: https://www.biostars.org/p/5165/\n",
    "* Try Qualimap\n",
    "* If not working samtools coverage http://www.htslib.org/doc/samtools-coverage.html\n",
    "* Bedtools as option"
   ]
  },
  {
   "cell_type": "code",
   "execution_count": null,
   "metadata": {},
   "outputs": [],
   "source": []
  }
 ],
 "metadata": {
  "kernelspec": {
   "display_name": "Python 3",
   "language": "python",
   "name": "python3"
  },
  "language_info": {
   "codemirror_mode": {
    "name": "ipython",
    "version": 3
   },
   "file_extension": ".py",
   "mimetype": "text/x-python",
   "name": "python",
   "nbconvert_exporter": "python",
   "pygments_lexer": "ipython3",
   "version": "3.7.8"
  }
 },
 "nbformat": 4,
 "nbformat_minor": 4
}
