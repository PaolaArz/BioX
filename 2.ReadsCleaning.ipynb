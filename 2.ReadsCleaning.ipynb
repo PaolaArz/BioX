{
 "cells": [
  {
   "cell_type": "markdown",
   "metadata": {},
   "source": [
    "## 2. Reads Cleaning\n",
    "\n",
    "*Tools*\n",
    "\n",
    "**Trimmomatic**\n",
    "* Conda: https://bioconda.github.io/recipes/trimmomatic/README.html#package-trimmomatic\n",
    "* Manual: http://www.usadellab.org/cms/?page=trimmomatic\n",
    "* Other resource: https://academic.oup.com/bioinformatics/article/30/15/2114/2390096\n",
    "\n",
    "**cutadapt**\n",
    "* Conda: https://bioconda.github.io/recipes/cutadapt/README.html#package-cutadapt\n",
    "* Manual: https://cutadapt.readthedocs.io/en/stable/"
   ]
  },
  {
   "cell_type": "code",
   "execution_count": 1,
   "metadata": {},
   "outputs": [
    {
     "name": "stdout",
     "output_type": "stream",
     "text": [
      "\u001b[34mArchive\u001b[m\u001b[m               reads_1.fastq.gz      trimmo_adapters.fasta\r\n"
     ]
    }
   ],
   "source": [
    "! ls ./P1/"
   ]
  },
  {
   "cell_type": "markdown",
   "metadata": {},
   "source": [
    "Steps to be performed: \n",
    "* Remove the adapters (ILLUMINACLIP:trimmo_adapters.fasta:2:30:10) \n",
    " * *Cut adapter and other illumina-specific sequences from the read*\n",
    " * ILLUMINACLIP **:** fastaWithAdaptersEtc **:** seed mismatches **:** palindrome clip threshold **:** simple clip threshold\n",
    "   * **fastaWithAdaptersEtc**: specifies the path to a fasta file containing all the adapters, PCR sequences etc. The naming of the various sequences within this file determines how they are used.\n",
    "   * **seedMismatches**: specifies the maximum mismatch count which will still allow a full match to be performed\n",
    "   * **palindromeClipThreshold**: specifies how accurate the match between the two 'adapter ligated' reads must be for PE palindrome read alignment\n",
    "   * **simpleClipThreshold**: specifies how accurate the match between any adapter etc. sequence must be against a read\n",
    "* Quality trimming (SLIDINGWINDOW:4:15)\n",
    " * *Perform a sliding window trimming, cutting once the average quality within the window falls below a threshold*\n",
    " * SLIDINGWINDOW **:** windowSize **:** requiredQuality\n",
    "   * **windowSize**: specifies the number of bases to average across\n",
    "   * **requiredQuality**: specifies the average quality required\n",
    "* Remove remaining shorter than 40 nucletide sequences (MINLEN:40)\n",
    " * *Drop the read if it is below a specified length*\n",
    " * MINLEN **:** length\n",
    "   * **length**: Specifies the minimum length of reads to be kept\n",
    "   \n",
    "*Trimming occurs in the order which the steps are specified on the command line. It is recommended in most cases that adapter clipping, if required, is done as early as possible*"
   ]
  },
  {
   "cell_type": "code",
   "execution_count": 2,
   "metadata": {},
   "outputs": [
    {
     "name": "stdout",
     "output_type": "stream",
     "text": [
      "Started analysis of reads_1.fastq.gz\n",
      "Approx 10% complete for reads_1.fastq.gz\n",
      "Approx 20% complete for reads_1.fastq.gz\n",
      "Approx 30% complete for reads_1.fastq.gz\n",
      "Approx 40% complete for reads_1.fastq.gz\n",
      "Approx 50% complete for reads_1.fastq.gz\n",
      "Approx 60% complete for reads_1.fastq.gz\n",
      "Approx 70% complete for reads_1.fastq.gz\n",
      "Approx 80% complete for reads_1.fastq.gz\n",
      "Approx 90% complete for reads_1.fastq.gz\n",
      "Approx 100% complete for reads_1.fastq.gz\n",
      "Analysis complete for reads_1.fastq.gz\n"
     ]
    }
   ],
   "source": [
    "# Checking reads quality before trimming\n",
    "! fastqc ./P1/reads_1.fastq.gz"
   ]
  },
  {
   "cell_type": "code",
   "execution_count": 6,
   "metadata": {},
   "outputs": [
    {
     "name": "stdout",
     "output_type": "stream",
     "text": [
      "TrimmomaticSE: Started with arguments:\n",
      " ./P1/reads_1.fastq.gz ./P1/reads_1.clean.fastq.gz ILLUMINACLIP:./P1/trimmo_adapters.fasta:2:30:10 SLIDINGWINDOW:4:15 MINLEN:40\n",
      "Automatically using 4 threads\n",
      "Using Long Clipping Sequence: 'AAGCAGTGGTATCAACGCAGAGTACATGGG'\n",
      "Using Long Clipping Sequence: 'AAGCAGTGGTATCAACGCAGAGTACTTTTT'\n",
      "ILLUMINACLIP: Using 0 prefix pairs, 2 forward/reverse sequences, 0 forward only sequences, 0 reverse only sequences\n",
      "Quality encoding detected as phred33\n",
      "Input Reads: 10000 Surviving: 6075 (60.75%) Dropped: 3925 (39.25%)\n",
      "TrimmomaticSE: Completed successfully\n"
     ]
    }
   ],
   "source": [
    "# Trimming\n",
    "! Trimmomatic SE  ./P1/reads_1.fastq.gz ./P1/reads_1.clean.fastq.gz ILLUMINACLIP:./P1/trimmo_adapters.fasta:2:30:10 SLIDINGWINDOW:4:15 MINLEN:40\n",
    "                            "
   ]
  },
  {
   "cell_type": "code",
   "execution_count": 7,
   "metadata": {},
   "outputs": [
    {
     "name": "stdout",
     "output_type": "stream",
     "text": [
      "Started analysis of reads_1.clean.fastq.gz\n",
      "Approx 15% complete for reads_1.clean.fastq.gz\n",
      "Approx 30% complete for reads_1.clean.fastq.gz\n",
      "Approx 45% complete for reads_1.clean.fastq.gz\n",
      "Approx 65% complete for reads_1.clean.fastq.gz\n",
      "Approx 80% complete for reads_1.clean.fastq.gz\n",
      "Approx 95% complete for reads_1.clean.fastq.gz\n",
      "Analysis complete for reads_1.clean.fastq.gz\n"
     ]
    }
   ],
   "source": [
    "# Checking reads quality after trimming\n",
    "! fastqc ./P1/reads_1.clean.fastq.gz"
   ]
  },
  {
   "cell_type": "code",
   "execution_count": 8,
   "metadata": {},
   "outputs": [
    {
     "name": "stdout",
     "output_type": "stream",
     "text": [
      "\u001b[34mArchivo\u001b[m\u001b[m               reads_1.fastq.gz      trimmo_adapters.fasta\r\n"
     ]
    }
   ],
   "source": [
    "! ls ./P2/"
   ]
  },
  {
   "cell_type": "markdown",
   "metadata": {},
   "source": [
    "Steps to be performed\n",
    "* Remove the adapters\n",
    "* Trim the bad quality edges \n",
    "* Discard the reads that have end up being too small (less than 40 nucleotides)"
   ]
  },
  {
   "cell_type": "code",
   "execution_count": 9,
   "metadata": {},
   "outputs": [
    {
     "name": "stdout",
     "output_type": "stream",
     "text": [
      "This is cutadapt 1.18 with Python 3.6.10\n",
      "Command line parameters: -a file:./P1/trimmo_adapters.fasta -o ./P1/reads_2_adapt.fastq.gz ./P1/reads_1.fastq.gz\n",
      "Processing reads on 1 core in single-end mode ...\n",
      "Finished in 0.64 s (64 us/read; 0.93 M reads/minute).\n",
      "\n",
      "=== Summary ===\n",
      "\n",
      "Total reads processed:                  10,000\n",
      "Reads with adapters:                     3,869 (38.7%)\n",
      "Reads written (passing filters):        10,000 (100.0%)\n",
      "\n",
      "Total basepairs processed:     1,010,000 bp\n",
      "Total written (filtered):        635,276 bp (62.9%)\n",
      "\n",
      "=== Adapter a1 ===\n",
      "\n",
      "Sequence: AAGCAGTGGTATCAACGCAGAGTACATGGG; Type: regular 3'; Length: 30; Trimmed: 1914 times.\n",
      "\n",
      "No. of allowed errors:\n",
      "0-9 bp: 0; 10-19 bp: 1; 20-29 bp: 2; 30 bp: 3\n",
      "\n",
      "Bases preceding removed adapters:\n",
      "  A: 1.8%\n",
      "  C: 2.3%\n",
      "  G: 2.7%\n",
      "  T: 1.8%\n",
      "  none/other: 91.4%\n",
      "\n",
      "Overview of removed sequences\n",
      "length\tcount\texpect\tmax.err\terror counts\n",
      "3\t126\t156.2\t0\t126\n",
      "4\t29\t39.1\t0\t29\n",
      "5\t5\t9.8\t0\t5\n",
      "6\t1\t2.4\t0\t1\n",
      "7\t1\t0.6\t0\t1\n",
      "9\t1\t0.0\t0\t1\n",
      "100\t1\t0.0\t3\t0 1\n",
      "101\t1750\t0.0\t3\t1130 362 136 122\n",
      "\n",
      "=== Adapter a2 ===\n",
      "\n",
      "Sequence: AAGCAGTGGTATCAACGCAGAGTACTTTTT; Type: regular 3'; Length: 30; Trimmed: 1955 times.\n",
      "\n",
      "No. of allowed errors:\n",
      "0-9 bp: 0; 10-19 bp: 1; 20-29 bp: 2; 30 bp: 3\n",
      "\n",
      "Bases preceding removed adapters:\n",
      "  A: 0.6%\n",
      "  C: 0.0%\n",
      "  G: 0.2%\n",
      "  T: 0.1%\n",
      "  none/other: 99.2%\n",
      "\n",
      "Overview of removed sequences\n",
      "length\tcount\texpect\tmax.err\terror counts\n",
      "71\t1\t0.0\t3\t1\n",
      "74\t1\t0.0\t3\t0 1\n",
      "75\t1\t0.0\t3\t0 0 1\n",
      "76\t1\t0.0\t3\t0 0 0 1\n",
      "100\t14\t0.0\t3\t13 1\n",
      "101\t1937\t0.0\t3\t1509 303 63 62\n",
      "\n"
     ]
    }
   ],
   "source": [
    "# Remove the adapters\n",
    "! cutadapt -a file:./P1/trimmo_adapters.fasta -o ./P1/reads_2_adapt.fastq.gz ./P1/reads_1.fastq.gz\n"
   ]
  },
  {
   "cell_type": "code",
   "execution_count": 11,
   "metadata": {},
   "outputs": [
    {
     "name": "stdout",
     "output_type": "stream",
     "text": [
      "This is cutadapt 1.18 with Python 3.6.10\n",
      "Command line parameters: -q 10 -o ./P1/reads_3.qual.fastq.gz ./P1/reads_2_adapt.fastq.gz\n",
      "Processing reads on 1 core in single-end mode ...\n",
      "Finished in 0.23 s (23 us/read; 2.62 M reads/minute).\n",
      "\n",
      "=== Summary ===\n",
      "\n",
      "Total reads processed:                  10,000\n",
      "Reads with adapters:                         0 (0.0%)\n",
      "Reads written (passing filters):        10,000 (100.0%)\n",
      "\n",
      "Total basepairs processed:       635,276 bp\n",
      "Quality-trimmed:                  12,402 bp (2.0%)\n",
      "Total written (filtered):        622,874 bp (98.0%)\n",
      "\n"
     ]
    }
   ],
   "source": [
    "# Quality trimming\n",
    "! cutadapt -q 10 -o ./P1/reads_3.qual.fastq.gz ./P1/reads_2_adapt.fastq.gz "
   ]
  },
  {
   "cell_type": "code",
   "execution_count": 13,
   "metadata": {},
   "outputs": [
    {
     "name": "stdout",
     "output_type": "stream",
     "text": [
      "This is cutadapt 1.18 with Python 3.6.10\n",
      "Command line parameters: -m 40 -o ./P1/reads_4.len.fastq.gz ./P1/reads_3.qual.fastq.gz\n",
      "Processing reads on 1 core in single-end mode ...\n",
      "Finished in 0.30 s (30 us/read; 1.97 M reads/minute).\n",
      "\n",
      "=== Summary ===\n",
      "\n",
      "Total reads processed:                  10,000\n",
      "Reads with adapters:                         0 (0.0%)\n",
      "Reads that were too short:               3,741 (37.4%)\n",
      "Reads written (passing filters):         6,259 (62.6%)\n",
      "\n",
      "Total basepairs processed:       622,874 bp\n",
      "Total written (filtered):        621,732 bp (99.8%)\n",
      "\n"
     ]
    }
   ],
   "source": [
    "# Remove short reads\n",
    "! cutadapt -m 40 -o ./P1/reads_4.len.fastq.gz ./P1/reads_3.qual.fastq.gz"
   ]
  },
  {
   "cell_type": "code",
   "execution_count": null,
   "metadata": {},
   "outputs": [],
   "source": []
  }
 ],
 "metadata": {
  "kernelspec": {
   "display_name": "Python 3",
   "language": "python",
   "name": "python3"
  },
  "language_info": {
   "codemirror_mode": {
    "name": "ipython",
    "version": 3
   },
   "file_extension": ".py",
   "mimetype": "text/x-python",
   "name": "python",
   "nbconvert_exporter": "python",
   "pygments_lexer": "ipython3",
   "version": "3.6.10"
  }
 },
 "nbformat": 4,
 "nbformat_minor": 4
}
